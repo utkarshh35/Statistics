{
  "nbformat": 4,
  "nbformat_minor": 0,
  "metadata": {
    "colab": {
      "provenance": []
    },
    "kernelspec": {
      "name": "python3",
      "display_name": "Python 3"
    },
    "language_info": {
      "name": "python"
    }
  },
  "cells": [
    {
      "cell_type": "markdown",
      "source": [
        "# **Descriptive Statistics**\n",
        "**Descriptive Statistics deals with the collection, organization, analysis, interpretation, and presentation of data. It focuses on summarizing and describing the main features of a set of data, without making inferences or predictions about the larger population.**"
      ],
      "metadata": {
        "id": "JXOtooxMR4vQ"
      }
    },
    {
      "cell_type": "markdown",
      "source": [
        "## **Population vs Sample**\n",
        "\n",
        "**population** refers to the entire group of individuals or objects that we are interested in studying. It is the complete set of observations that we want to make inferences about. For example, the population might be all the students in a particular school or all the cars in a particular city.\n",
        "\n",
        "**sample** on the other hand, is a subset of the population. It is a smaller group of individuals or objects that we select from the population to study. Samples are used to estimate characteristics of the population, such as the mean or the proportion with a certain attribute. For example, we might randomly select 100 students.\n",
        "\n",
        "**Examples**\n",
        "\n",
        "1. All cricket fans vs fans who were present in the stadium\n",
        "2. All students vs who visit the college for lectures\n",
        "\n",
        "**Things to be careful about while creating samples:**\n",
        "\n",
        "1. sample size\n",
        "2. random\n",
        "3. representative\n",
        "\n"
      ],
      "metadata": {
        "id": "p5Jh9PDqR02q"
      }
    },
    {
      "cell_type": "markdown",
      "source": [
        "## **Parameter vs statistics**\n",
        "\n",
        "a **parameter** is a characteristic of a population, while a **statistic** is a characteristic of a sample. Parameters are generally unknown and are estimated using statistics. The goal of statistical inference is to use the information obtained from the sample to make inferences about the population parameters.\n",
        "\n",
        "\n"
      ],
      "metadata": {
        "id": "sMiDToQBT_7C"
      }
    },
    {
      "cell_type": "markdown",
      "source": [
        "## **why ml is closely associated with statistics?**\n",
        "Machine Learning (ML) relies on statistical principles to make predictions and decisions from data. Statistics provides the foundational tools for understanding uncertainty, estimating parameters, and evaluating the performance of ML models."
      ],
      "metadata": {
        "id": "NJlRaIaMVYc6"
      }
    },
    {
      "cell_type": "markdown",
      "source": [
        "## **Types of Data:**\n",
        "\n",
        "![image](https://media.geeksforgeeks.org/wp-content/uploads/20211019230043/UntitledDiagram13.jpg)"
      ],
      "metadata": {
        "id": "J_3-7kHJchK-"
      }
    },
    {
      "cell_type": "markdown",
      "source": [
        "## **Measure of Central Tendencies**\n",
        "\n",
        "**Mean:** The mean is the sum of all values in the dataset divided by the number of\n",
        "values.\n",
        "\n",
        "![image](https://www.onlinemathlearning.com/image-files/population-mean.png)\n",
        "\n",
        "**Median:** The median is the middle value in the dataset when the data is arranged in order.\n",
        "\n",
        "**Mode:** The mode is the value that appears most frequently in the dataset.\n",
        "\n",
        "**Weighted Mean:** The weighted mean is the sum of the products of each value and its weight, divided by the sum of the weights. It is used to calculate a mean when the values in the dataset have different importance of frequency.\n",
        "\n",
        "**Trimmed Mean:** A trimmed mean is calculated by removing a certain percentage of the smallest and largest values from the dataset and then taking the mean of the remaining values. The percentage of values removed is called the trimming percentage."
      ],
      "metadata": {
        "id": "x2Hpm5B9cJk5"
      }
    },
    {
      "cell_type": "markdown",
      "source": [
        "## **Measure of Dispersion**\n",
        "\n",
        "A measure of dispersion is a statistical measure that describes the spread of variability of a dataset. It provides information about how the data is distributed around the central tendency(mean, median, mode) of the dataset.\n",
        "\n",
        "**Range:** The range is the difference between the maximum and minimum values if the dataset. It is a simple measure of dispersion that is easy to calculate but can be affected by outliers.\n",
        "\n",
        "**Variance:** The variance is the average of the squared differences between each data point and the mean. It measures the average distance of each data point from the mean and is useful in comparing the dispersion of datasets with different means.\n",
        "\n",
        "![image](https://media.geeksforgeeks.org/wp-content/uploads/20230605183401/Variance-formula.png)\n",
        "\n",
        "**Mean Absolute Deviation:**\n",
        "![image](https://calculator-online.net/assets/img/mad_formula.png)\n",
        "\n",
        "**Standard Deviation:** The standard deviation is the square root of the variance. It is a widely used measure of dispersion that is useful in describing the shape of a distribution.\n",
        "![image](https://i.ytimg.com/vi/Uk98hiMQgN0/maxresdefault.jpg)\n",
        "\n",
        "**Coefficient of Variance:** The CV is the ratio of the standard deviation to the mean expressed as a percentage. It is used to compare the variability of datasets with different means and is commonly used in fields such as biology, chemistry, and engineering.\n",
        "\n",
        "The coefficient of variance(CV) is a statistical measure that expresses the amount of variability in a dataset relative to the mean. It is dimensionless quantity that is expressed as a percentage.The formula for calculating the coefficient of variation is:\n",
        "\n",
        "**CV = (standard deviation / mean)x 100%**"
      ],
      "metadata": {
        "id": "AZFtJtEVOkRy"
      }
    },
    {
      "cell_type": "markdown",
      "source": [
        "## **Graphs for Univariate Analysis**\n",
        "\n",
        "**1. Categorical - Frequency Distribution Table And Cumulative Frequency:**\n",
        "\n",
        "a. **Frequency distribution table** is a table that summarizes the number of times(or frequency) that each value occurs in a dataset. eg: Bar Chart.\n",
        "\n",
        "b. **Relative frequency** is the proportion or percentage of a category in a dataset or sample. It is calculated by dividing the frequency of a category by the total number of observations in the dataset or sample. eg: Pie Chart.\n",
        "\n",
        "c. **Cumulative frequency** is the running total of frequencies of a variable or category in a dataset or sample. It is calculated by adding up the frequencies of the current category and all previous categories in the dataset or sample. eg: Line chart\n",
        "\n",
        "**2. Numerical - Frequency Distribution Table and Histogram:**\n",
        "\n",
        "We plot **Histogram** by forming bins size\n"
      ],
      "metadata": {
        "id": "TY8lQUdrWeOZ"
      }
    },
    {
      "cell_type": "markdown",
      "source": [
        "## **Graphs for Bivariate Analysis**\n",
        "\n",
        "**1. Categorical-Categorical:**\n",
        "\n",
        "A **contigency table**, also known as a cross-tabulation or crosstab, is a type of table used to statistics to summarize the relationship between two categorical variables. A contigency table displays the frequencies or relative frequencies of the observed values of the two variables, organized into rows and columns.\n",
        "\n",
        "**2. Numerical-Numerical:**\n",
        "\n",
        "We plot **scatterplot** in order to study correlation.\n",
        "\n",
        "**3. Categorical-Numerical:**\n",
        "\n",
        "We plot **bar chart** using aggregation function on numerical column."
      ],
      "metadata": {
        "id": "V5i8ygwxuGLW"
      }
    },
    {
      "cell_type": "markdown",
      "source": [
        "## **Quantiles and Percentiles**\n",
        "\n",
        "Quantiles are statistical measures used to divide a set of numerical data into equal-sized groups, with each group containing and equal number of observations.\n",
        "\n",
        "Quantiles are important measures of variability and can be used to: understand distribution of data, summarize and compare different datasets. They can also be used to identify outliers.\n",
        "\n",
        "There are several types of quantiles used in statistical analysis, including:\n",
        "\n",
        "a. **Quartiles:** Divides the data into four equal parts, Q1(25th percentile), Q2(50th percentile), Q3(75th percentile).\n",
        "\n",
        "b. **Deciles:** Divide the data into ten equal parts, D1(10th percentile), D2(20th percentile), ..., D9(90th percentile).\n",
        "\n",
        "c. **Percentiles:** Divide the data into 100 equal parts, P1(1st percentile), P2(2nd percentile), ...., P99(99th percentile).\n",
        "\n",
        "d. **Quintiles:** Divides the data into 5 equal parts.\n",
        "\n",
        "Things to remember while calculating these measure.\n",
        "\n",
        "1. Data should be sorted from low to high.\n",
        "2. You are basiscally finding the location of an observation.\n",
        "3. They are not actual values in the data.\n",
        "4. All other tiles can be easily derived from percentiles.\n",
        "\n",
        "**Percentile**\n",
        "\n",
        "A percentile is a statistical measure that represents the percentage of observation in a dataset that fall below a particular value for example, the 75th percentile is the value below which 75% of the observations in the dataset fall.\n",
        "\n",
        "Formula to calculate the percentile value:\n",
        "\n",
        "**PL = P/100*(N+1)**\n",
        "\n",
        "where:\n",
        "\n",
        "* PL = the desired percentile value between\n",
        "* N = the total number of observation in the dataset\n",
        "* P = the percentile rank\n",
        "\n",
        "Example:\n",
        "\n",
        "Find the 75th percentile score from the below data.\n",
        "\n",
        "82, 88, 93, 94, 96, 98, 99, 84, 91, 78\n",
        "\n",
        "Step1 - Sort the data\n",
        "\n",
        "78, 82, 84, 88, 91, 93, 94, 96, 98, 99\n",
        "\n",
        "PL = 75/100*(10+1) = (3/4)*11 = 33/4 = 8.25\n",
        "\n",
        "Value = 96 + 0.25*(98 - 96) = 96.5\n",
        "\n",
        "75th percentile = 96.5\n",
        "\n",
        "**Percentile of a value**\n",
        "\n",
        "**Percentile rank = (X + 0.5*Y)/N**\n",
        "\n",
        "X = number of values below the given value\n",
        "\n",
        "Y = number of values equal to the given value\n",
        "\n",
        "N = total number of values in the dataset.\n",
        "\n",
        "Calculate the percentile rank of the value 88:\n",
        "\n",
        "78, 82, 84, 88, 91, 93, 94, 96, 98, 99\n",
        "\n",
        "percentile rank = (3 + 0.5*1)/10 = 0.35 = 35%"
      ],
      "metadata": {
        "id": "eM8ACTSVX5vL"
      }
    },
    {
      "cell_type": "markdown",
      "source": [
        "# **5 number summary**\n",
        "\n",
        "The five-number summary is a descriptive statistic that provides a summary of a dataset. It consists of five values that divide the dataset into four equal parts, also known as quartiles. The five-number summary includes the following values:\n",
        "\n",
        "1. Minimum value\n",
        "2. First quartile(Q1)\n",
        "3. Median(Q2)\n",
        "4. Third quartile(Q3)\n",
        "5. Maximum value"
      ],
      "metadata": {
        "id": "aSYMKbfjzAJo"
      }
    },
    {
      "cell_type": "markdown",
      "source": [
        "# **Boxplot**\n",
        "\n",
        "A boxplot, also known as a box-and-whisker plot, is a graphical representation of a dataset that shows the distribution of the data. The box plot displays a summary of the data, including the minimum and maximum values, the first quartile(Q1), the median(Q2), and the third quartile(Q3)."
      ],
      "metadata": {
        "id": "ERfPeOVmz1Y8"
      }
    },
    {
      "cell_type": "markdown",
      "source": [
        "# **Covariance**\n",
        "\n",
        "Covariance is a statistical measure that describes the degree to which two variables are linearly related. It measures how much two variables change together, such that when one variable increases, does the other variable also increase, or does it decrease?\n",
        "\n",
        "If the covariance between two variables is positive, it means that the variables tend to move together in the same direction. If the covariance of zero indicates that the variables are not linearly related.\n",
        "\n",
        "![image](https://cdn1.byjus.com/wp-content/uploads/2019/02/Covariance-Formula.png)\n",
        "\n",
        "**Disadvantages of using Covariance**\n",
        "\n",
        "One limitation of covariance is that it does not tell us about the strength of the relationship between two variables, since the magnitude of covariance is effected by the scale of the variables.\n",
        "\n",
        "**Covariance of a variable with itself is variance**"
      ],
      "metadata": {
        "id": "O6AOyGh4IufN"
      }
    },
    {
      "cell_type": "markdown",
      "source": [
        "## **Correlation**\n",
        "\n",
        "Correlation refers to a statistical relationship between two or more variables. Specifically, it measures the degree to which two variables are related and how they tend to change together.\n",
        "\n",
        "Correlation is often measured using a statistical tool called the correlation coefficient, which ranges from -1 to 1. A correlation coefficient of -1 indicates a perfect negative correlation, a correlation coefficient of 0 indicates no correlation, and a correlation coefficient of 1 indicates a perfect positive correlation. Correlation does not effected by scale.\n",
        "\n",
        "![image](https://blog.kakaocdn.net/dn/U7jFN/btqTtqFrVeK/ID77rJQbFivupPp2xaoKj0/img.png)\n",
        "\n"
      ],
      "metadata": {
        "id": "1wnBOkwceWYk"
      }
    },
    {
      "cell_type": "markdown",
      "source": [
        "## **Correlation and Causation**\n",
        "The phrase 'correlation does not imply causation' means that just because two variables are correlation with each other, it does not necessarily mean that one causes the other. In other words a correlation between two variables does not necessarily imply that one variables is the reason for the other variables behaviour.\n",
        "\n",
        "Suppose there is a positive correlation between the number of firefighters\n",
        "present at a fire and the amount of damage caused by the fire. One might be\n",
        "tempted to conclude that the presence of firefighters causes more damage.\n",
        "However, this correlation could be explained by a third variable - the severity\n",
        "of the fire. More severe fires might require more firefighters to be present, and also cause more damage.\n",
        "\n",
        "Thus, while correlations can provide valuable insights into how different\n",
        "variables are related, they cannot be used to establish causality. Establishing\n",
        "causality often requires additional evidence such as experiments, randomized\n",
        "controlled trials, or well-designed observational studies."
      ],
      "metadata": {
        "id": "RgfFMj4IgrUm"
      }
    }
  ]
}